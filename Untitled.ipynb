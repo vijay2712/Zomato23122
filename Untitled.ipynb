{
 "cells": [
  {
   "cell_type": "code",
   "execution_count": 1,
   "metadata": {},
   "outputs": [
    {
     "name": "stdout",
     "output_type": "stream",
     "text": [
      "   online_order  book_table  rate  votes  location  rest_type  cuisines  \\\n",
      "0             1           1   4.1    775         1         20      1386   \n",
      "1             1           0   4.1    787         1         20       594   \n",
      "2             1           0   3.8    918         1         16       484   \n",
      "3             0           0   3.7     88         1         62      1587   \n",
      "4             0           0   3.8    166         4         20      1406   \n",
      "\n",
      "    cost  menu_item  \n",
      "0  800.0       5047  \n",
      "1  800.0       5047  \n",
      "2  800.0       5047  \n",
      "3  300.0       5047  \n",
      "4  600.0       5047  \n"
     ]
    }
   ],
   "source": [
    "import numpy as np\n",
    "import pandas as pd\n",
    "import sklearn\n",
    "from sklearn.ensemble import ExtraTreesRegressor\n",
    "from sklearn.model_selection import train_test_split\n",
    "\n",
    "import warnings\n",
    "warnings.filterwarnings('ignore')\n",
    "\n",
    "df=pd.read_csv('Zomato_df.csv')\n",
    "df.drop('Unnamed: 0',axis=1,inplace=True)\n",
    "print(df.head())\n",
    "x=df.drop('rate',axis=1)\n",
    "y=df['rate']\n",
    "x_train,x_test,y_train,y_test=train_test_split(x,y,test_size=.3,random_state=10)\n",
    "\n",
    "#Building a Model\n",
    "\n",
    "from sklearn.ensemble import ExtraTreesRegressor\n",
    "ET_Model=ExtraTreesRegressor(n_estimators=120)\n",
    "ET_Model.fit(x_train,y_train)\n",
    "\n",
    "y_predict=ET_Model.predict(x_test)\n",
    "\n",
    "#Lets save the model using Pickle\n",
    "import pickle\n",
    "pickle.dump(ET_Model,open('model.pkl','wb'))\n",
    "model=pickle.load(open('model.pkl','rb'))\n"
   ]
  },
  {
   "cell_type": "code",
   "execution_count": null,
   "metadata": {},
   "outputs": [],
   "source": []
  }
 ],
 "metadata": {
  "kernelspec": {
   "display_name": "Python 3",
   "language": "python",
   "name": "python3"
  },
  "language_info": {
   "codemirror_mode": {
    "name": "ipython",
    "version": 3
   },
   "file_extension": ".py",
   "mimetype": "text/x-python",
   "name": "python",
   "nbconvert_exporter": "python",
   "pygments_lexer": "ipython3",
   "version": "3.7.4"
  }
 },
 "nbformat": 4,
 "nbformat_minor": 2
}
